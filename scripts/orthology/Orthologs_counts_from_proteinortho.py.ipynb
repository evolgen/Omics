{
 "cells": [
  {
   "cell_type": "markdown",
   "metadata": {},
   "source": [
    "# Script to count gene families in each species from the proteinortho results using a modified poff extension file - we are using the orthologs identified using Proteinortho from Lifted annotations and reference quality genomes\n"
   ]
  },
  {
   "cell_type": "code",
   "execution_count": null,
   "metadata": {},
   "outputs": [],
   "source": [
    "import sys\n",
    "import csv\n",
    "\n",
    "#sebonly_tsv = \"/global/scratch2/rohitkolora/Rockfish/Genomes/orthologs/proteinortho_finale/sebonly.rockfish.poff.tsv\"\n",
    "#original_stdout = sys.stdout # Save a reference to the original standard output\n",
    "#with open('/global/scratch2/rohitkolora/Rockfish/Genomes/orthologs/proteinortho_finale/sebonly.speciescounts.tsv', 'w') as outfile1:\n",
    " \n",
    "sebonly_tsv = \"/global/scratch2/rohitkolora/Rockfish/Genomes/orthologs/Geneloss/sebonly.lifted.poff.tsv\"\n",
    "\n",
    "original_stdout = sys.stdout # Save a reference to the original standard output\n",
    "\n",
    "with open('/global/scratch2/rohitkolora/Rockfish/Genomes/orthologs/Geneloss/sebonly.lifted.speciescounts.tsv', 'w') as outfile1:\n",
    "    sys.stdout = outfile1 # Change the standard output to the file we created.\n",
    "    with open(sebonly_tsv) as tsv:\n",
    "        speciesnames = tsv.readline().replace('.faa','').split(\"\\t\") # Read header, replace extension and split by tab\n",
    "        speciesnames = [species1.replace('\\n', '') for species1 in speciesnames]\n",
    "        header_size = len(speciesnames)\n",
    "        print (\"GroupID\", end='\\t')\n",
    "        count_header_elem1 = 0\n",
    "        for curr_header1 in range(0, header_size):\n",
    "            count_header_elem1 = count_header_elem1 + 1\n",
    "            if (count_header_elem1 == header_size):\n",
    "                print (speciesnames[curr_header1], end='')\n",
    "            else:    \n",
    "                print (speciesnames[curr_header1], end='\\t')\n",
    "        print()    \n",
    "        count=0\n",
    "        for ortholine1 in csv.reader(tsv, delimiter=\"\\t\"):\n",
    "            count=count+1\n",
    "            orthocount=\"Family{:06d}\".format(count)\n",
    "            if(count > 5):\n",
    "                break\n",
    "            number_of_species=len(ortholine1)\n",
    "            print (orthocount, sep='\\t', end='\\t')\n",
    "            curr_species1_elem = 0\n",
    "            for curr_species1 in range(0, number_of_species):\n",
    "                curr_species1_elem = curr_species1 + 1\n",
    "                if (ortholine1[curr_species1] != \"*\" ):\n",
    "                    curr_species1_count = ortholine1[curr_species1].count(',')\n",
    "                    curr_species1_count = curr_species1_count + 1\n",
    "                elif (ortholine1[curr_species1] == \"*\" ):\n",
    "                    curr_species1_count = 0\n",
    "            \n",
    "                if (curr_species1_elem != header_size):\n",
    "                    print (curr_species1_count, end='\\t')\n",
    "                else:\n",
    "                    print (curr_species1_count, end='\\n')\n",
    "                #print (speciesnames[curr_species1], curr_species1_count, sep='\\t')    \n",
    "#        print()\n",
    "        \n",
    "sys.stdout = original_stdout\n",
    "\n",
    "print (\"All counts done till \", orthocount)\n"
   ]
  },
  {
   "cell_type": "code",
   "execution_count": null,
   "metadata": {},
   "outputs": [],
   "source": []
  }
 ],
 "metadata": {
  "kernelspec": {
   "display_name": "Python 3.6",
   "language": "python",
   "name": "python3.6"
  }
 },
 "nbformat": 4,
 "nbformat_minor": 2
}
